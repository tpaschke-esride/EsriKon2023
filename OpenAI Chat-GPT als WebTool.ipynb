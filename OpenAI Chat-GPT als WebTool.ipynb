{
 "cells": [
  {
   "cell_type": "markdown",
   "metadata": {},
   "source": [
    "### "
   ]
  },
  {
   "cell_type": "code",
   "execution_count": 1,
   "metadata": {},
   "outputs": [],
   "source": [
    "#OpenAI API Credentials einsetzen\n",
    "org_key = \"\"\n",
    "api_key = \"\""
   ]
  },
  {
   "cell_type": "markdown",
   "metadata": {},
   "source": [
    "# OpenAI Chat-GPT Integration"
   ]
  },
  {
   "cell_type": "markdown",
   "metadata": {},
   "source": [
    "### Bibliotheken installieren und mit GIS verbinden:"
   ]
  },
  {
   "cell_type": "code",
   "execution_count": 1,
   "metadata": {},
   "outputs": [
    {
     "name": "stderr",
     "output_type": "stream",
     "text": [
      "/opt/conda/lib/python3.9/site-packages/arcgis/gis/__init__.py:676: UserWarning: You are logged on as t.paschke with an administrator role, proceed with caution.\n",
      "  warnings.warn(\n"
     ]
    }
   ],
   "source": [
    "import pandas as pd\n",
    "from arcgis.features import GeoAccessor\n",
    "from arcgis.gis import GIS\n",
    "import os\n",
    "gis = GIS(\"home\")"
   ]
  },
  {
   "cell_type": "markdown",
   "metadata": {},
   "source": [
    "###  POI / Input Parameter definieren :"
   ]
  },
  {
   "cell_type": "code",
   "execution_count": 2,
   "metadata": {
    "tags": [
     "parameters"
    ]
   },
   "outputs": [],
   "source": [
    "# Die Variable POI wurde als Eingabeparameter im Notebook definiert\n",
    "POI = \"Kölner Dom\""
   ]
  },
  {
   "cell_type": "markdown",
   "metadata": {},
   "source": [
    "###  OpenAI Python Bibliothek installieren:"
   ]
  },
  {
   "cell_type": "code",
   "execution_count": 3,
   "metadata": {
    "scrolled": false
   },
   "outputs": [
    {
     "name": "stdout",
     "output_type": "stream",
     "text": [
      "Requirement already satisfied: openai in /opt/conda/lib/python3.9/site-packages (1.3.5)\n",
      "Requirement already satisfied: typing-extensions<5,>=4.5 in /opt/conda/lib/python3.9/site-packages (from openai) (4.7.1)\n",
      "Requirement already satisfied: anyio<4,>=3.5.0 in /opt/conda/lib/python3.9/site-packages (from openai) (3.7.1)\n",
      "Requirement already satisfied: tqdm>4 in /opt/conda/lib/python3.9/site-packages (from openai) (4.64.1)\n",
      "Requirement already satisfied: pydantic<3,>=1.9.0 in /opt/conda/lib/python3.9/site-packages (from openai) (2.5.2)\n",
      "Requirement already satisfied: distro<2,>=1.7.0 in /opt/conda/lib/python3.9/site-packages (from openai) (1.8.0)\n",
      "Requirement already satisfied: httpx<1,>=0.23.0 in /opt/conda/lib/python3.9/site-packages (from openai) (0.25.1)\n",
      "Requirement already satisfied: idna>=2.8 in /opt/conda/lib/python3.9/site-packages (from anyio<4,>=3.5.0->openai) (3.4)\n",
      "Requirement already satisfied: sniffio>=1.1 in /opt/conda/lib/python3.9/site-packages (from anyio<4,>=3.5.0->openai) (1.3.0)\n",
      "Requirement already satisfied: exceptiongroup in /opt/conda/lib/python3.9/site-packages (from anyio<4,>=3.5.0->openai) (1.2.0)\n",
      "Requirement already satisfied: certifi in /opt/conda/lib/python3.9/site-packages (from httpx<1,>=0.23.0->openai) (2022.12.7)\n",
      "Requirement already satisfied: httpcore in /opt/conda/lib/python3.9/site-packages (from httpx<1,>=0.23.0->openai) (1.0.2)\n",
      "Requirement already satisfied: pydantic-core==2.14.5 in /opt/conda/lib/python3.9/site-packages (from pydantic<3,>=1.9.0->openai) (2.14.5)\n",
      "Requirement already satisfied: annotated-types>=0.4.0 in /opt/conda/lib/python3.9/site-packages (from pydantic<3,>=1.9.0->openai) (0.6.0)\n",
      "Requirement already satisfied: h11<0.15,>=0.13 in /opt/conda/lib/python3.9/site-packages (from httpcore->httpx<1,>=0.23.0->openai) (0.14.0)\n"
     ]
    }
   ],
   "source": [
    "!pip install openai"
   ]
  },
  {
   "cell_type": "markdown",
   "metadata": {},
   "source": [
    "###  Import OpenAI Bibliothek, Verbindung zur API herstellen & Unterhaltung mit ChatGPT beginnen :"
   ]
  },
  {
   "cell_type": "code",
   "execution_count": 5,
   "metadata": {
    "scrolled": false
   },
   "outputs": [],
   "source": [
    "from openai import OpenAI\n",
    "client = OpenAI(organization=org_key,api_key=api_key)"
   ]
  },
  {
   "cell_type": "code",
   "execution_count": 6,
   "metadata": {},
   "outputs": [],
   "source": [
    "location_raw_response = client.chat.completions.create(model=\"gpt-3.5-turbo\", messages=[{\"role\": \"user\", \"content\":\"Bitte ermittle mir die Adresse von \"+ POI}])\n",
    "location_response = location_raw_response.model_dump()\n",
    "location = location_response[\"choices\"][0][\"message\"][\"content\"].replace(\"\\n\", \"\")"
   ]
  },
  {
   "cell_type": "code",
   "execution_count": 7,
   "metadata": {},
   "outputs": [],
   "source": [
    "description_raw_response = client.chat.completions.create(model=\"gpt-3.5-turbo\", messages=[{\"role\": \"user\", \"content\":\"Bitte liefere eine genauere Beschreibung von \" +POI}])\n",
    "description_response = description_raw_response.model_dump()\n",
    "description = description_response[\"choices\"][0][\"message\"][\"content\"].replace(\"\\n\", \"\")"
   ]
  },
  {
   "cell_type": "code",
   "execution_count": 8,
   "metadata": {},
   "outputs": [
    {
     "data": {
      "text/plain": [
       "'Der Kölner Dom ist eine gotische Kathedrale und ein Wahrzeichen der Stadt Köln in Deutschland. Er befindet sich im Zentrum der Altstadt, nahe dem Rheinufer.Der Dom ist mit einer Höhe von 157 Metern eine der größten Kirchen weltweit. Seine beeindruckende Architektur ist geprägt von typischen gotischen Bauelementen wie Spitzbögen, Fialen und Maßwerkfenstern. Die Fassade besteht aus dunklem Basalt und Sandstein, was dem Gebäude ein imposantes und einzigartiges Aussehen verleiht.Im Inneren des Doms befinden sich zahlreiche kunstvolle Werke, darunter verschiedene Skulpturen, Altäre und Glasfenster. Besonders beeindruckend ist der Hochaltar, der reich mit vergoldeten Reliefs geschmückt ist. Auch die Annakapelle, der Kreuzgang und die Schatzkammer sind einen Besuch wert.Der Kölner Dom lockt jährlich Millionen von Besuchern aus aller Welt an. Es besteht die Möglichkeit, den Dom zu besichtigen und informative Führungen zu buchen. Für die Mutigen gibt es außerdem die Möglichkeit, den Domturm zu besteigen und einen atemberaubenden Blick über die Stadt zu genießen.Der Kölner Dom wurde im Jahr 1996 von der UNESCO zum Weltkulturerbe erklärt und ist somit ein wichtiges kulturelles Erbe. Er ist nicht nur ein Ort der Andacht und des Glaubens, sondern auch ein Symbol für die Stadt Köln und deren Geschichte.'"
      ]
     },
     "execution_count": 8,
     "metadata": {},
     "output_type": "execute_result"
    }
   ],
   "source": [
    "description"
   ]
  },
  {
   "cell_type": "markdown",
   "metadata": {},
   "source": [
    "###  DataFrame erstellen:"
   ]
  },
  {
   "cell_type": "code",
   "execution_count": 9,
   "metadata": {
    "scrolled": true
   },
   "outputs": [
    {
     "data": {
      "text/html": [
       "<div>\n",
       "<style scoped>\n",
       "    .dataframe tbody tr th:only-of-type {\n",
       "        vertical-align: middle;\n",
       "    }\n",
       "\n",
       "    .dataframe tbody tr th {\n",
       "        vertical-align: top;\n",
       "    }\n",
       "\n",
       "    .dataframe thead th {\n",
       "        text-align: right;\n",
       "    }\n",
       "</style>\n",
       "<table border=\"1\" class=\"dataframe\">\n",
       "  <thead>\n",
       "    <tr style=\"text-align: right;\">\n",
       "      <th></th>\n",
       "      <th>POI</th>\n",
       "      <th>Adresse</th>\n",
       "      <th>Description</th>\n",
       "    </tr>\n",
       "  </thead>\n",
       "  <tbody>\n",
       "    <tr>\n",
       "      <th>0</th>\n",
       "      <td>Kölner Dom</td>\n",
       "      <td>Die Adresse des Kölner Doms lautet:Domkloster ...</td>\n",
       "      <td>Der Kölner Dom ist eine gotische Kathedrale un...</td>\n",
       "    </tr>\n",
       "  </tbody>\n",
       "</table>\n",
       "</div>"
      ],
      "text/plain": [
       "          POI                                            Adresse  \\\n",
       "0  Kölner Dom  Die Adresse des Kölner Doms lautet:Domkloster ...   \n",
       "\n",
       "                                         Description  \n",
       "0  Der Kölner Dom ist eine gotische Kathedrale un...  "
      ]
     },
     "execution_count": 9,
     "metadata": {},
     "output_type": "execute_result"
    }
   ],
   "source": [
    "poi_df = pd.DataFrame({\"POI\":[POI],\"Adresse\":[location], \"Description\":[description]})\n",
    "poi_df"
   ]
  },
  {
   "cell_type": "markdown",
   "metadata": {},
   "source": [
    "### Geokodieren der Adresse in einen Spatially Enabled Data Frame:"
   ]
  },
  {
   "cell_type": "code",
   "execution_count": 10,
   "metadata": {},
   "outputs": [],
   "source": [
    "try:\n",
    "    poi_sdf = pd.DataFrame.spatial.from_df(poi_df, address_column='Adresse')\n",
    "except:\n",
    "    poi_sdf = pd.DataFrame.spatial.from_df(poi_df, address_column='POI')"
   ]
  },
  {
   "cell_type": "code",
   "execution_count": 11,
   "metadata": {},
   "outputs": [
    {
     "data": {
      "text/html": [
       "<div>\n",
       "<style scoped>\n",
       "    .dataframe tbody tr th:only-of-type {\n",
       "        vertical-align: middle;\n",
       "    }\n",
       "\n",
       "    .dataframe tbody tr th {\n",
       "        vertical-align: top;\n",
       "    }\n",
       "\n",
       "    .dataframe thead th {\n",
       "        text-align: right;\n",
       "    }\n",
       "</style>\n",
       "<table border=\"1\" class=\"dataframe\">\n",
       "  <thead>\n",
       "    <tr style=\"text-align: right;\">\n",
       "      <th></th>\n",
       "      <th>poi</th>\n",
       "      <th>adresse</th>\n",
       "      <th>description</th>\n",
       "      <th>longlabel</th>\n",
       "      <th>city</th>\n",
       "      <th>displayx</th>\n",
       "      <th>displayy</th>\n",
       "      <th>shape</th>\n",
       "    </tr>\n",
       "  </thead>\n",
       "  <tbody>\n",
       "    <tr>\n",
       "      <th>0</th>\n",
       "      <td>Kölner Dom</td>\n",
       "      <td>Die Adresse des Kölner Doms lautet:Domkloster ...</td>\n",
       "      <td>Der Kölner Dom ist eine gotische Kathedrale un...</td>\n",
       "      <td>Cologne Cathedral, Domkloster 4, 50667, Cologn...</td>\n",
       "      <td>Cologne</td>\n",
       "      <td>6.95814</td>\n",
       "      <td>50.94134</td>\n",
       "      <td>{\"x\": 6.956810043424, \"y\": 50.941250062179, \"s...</td>\n",
       "    </tr>\n",
       "  </tbody>\n",
       "</table>\n",
       "</div>"
      ],
      "text/plain": [
       "          poi                                            adresse  \\\n",
       "0  Kölner Dom  Die Adresse des Kölner Doms lautet:Domkloster ...   \n",
       "\n",
       "                                         description  \\\n",
       "0  Der Kölner Dom ist eine gotische Kathedrale un...   \n",
       "\n",
       "                                           longlabel     city  displayx  \\\n",
       "0  Cologne Cathedral, Domkloster 4, 50667, Cologn...  Cologne   6.95814   \n",
       "\n",
       "   displayy                                              shape  \n",
       "0  50.94134  {\"x\": 6.956810043424, \"y\": 50.941250062179, \"s...  "
      ]
     },
     "execution_count": 11,
     "metadata": {},
     "output_type": "execute_result"
    }
   ],
   "source": [
    "poi_sdf = poi_sdf[[\"POI\",\"Adresse\",\"Description\",\"LongLabel\",\"City\",\"DisplayX\",\"DisplayY\",\"SHAPE\"]]\n",
    "poi_sdf.columns = map(str.lower, poi_sdf.columns)\n",
    "poi_sdf"
   ]
  },
  {
   "cell_type": "markdown",
   "metadata": {},
   "source": [
    "### Output Parameter definieren und Ausgabedatei für WebTool schreiben"
   ]
  },
  {
   "cell_type": "code",
   "execution_count": 15,
   "metadata": {},
   "outputs": [],
   "source": [
    "# DataFrame für Ausgabe in FeatureSet umwandeln\n",
    "poi_feature = poi_sdf.spatial.to_featureset()"
   ]
  },
  {
   "cell_type": "code",
   "execution_count": 16,
   "metadata": {},
   "outputs": [],
   "source": [
    "# Der folgende Codeblock schreibt die Ausgabeparameterdatei für die Ausführung des Webtools.\n",
    "# Achtung: Darf nur während der Ausführung des Webtools ausgeführt werden, wenn die Umgebungsvariable \"ENB_JOBID\" vorhanden ist!\n",
    "if \"ENB_JOBID\" in os.environ:\n",
    "    # poi_feature gibt das FeatureSet zurück und wurde als Output Parameter im Notebook definiert\n",
    "    out_param_name = \"poi_feature\"\n",
    "    out_param_file= os.path.join(\n",
    "        os.environ[\"ENB_JOBID\"], \"value_\" + out_param_name + \".dat\")\n",
    "    with open(out_param_file, \"w\") as writer:\n",
    "        writer.write(str(poi_feature))"
   ]
  },
  {
   "cell_type": "code",
   "execution_count": 17,
   "metadata": {},
   "outputs": [],
   "source": [
    "if \"ENB_JOBID\" in os.environ:\n",
    "    # description gibt die Beschreibung als Outputparameter als Text zurück (kann z.B. im Widget angezeigt werden)\n",
    "    out_param_name = \"description\"\n",
    "    out_param_file= os.path.join(\n",
    "        os.environ[\"ENB_JOBID\"], \"value_\" + out_param_name + \".dat\")\n",
    "    with open(out_param_file, \"w\") as writer:\n",
    "        writer.write(str(description))"
   ]
  }
 ],
 "metadata": {
  "esriNotebookRuntime": {
   "notebookRuntimeName": "Standard 11.1 OpenAI Ready",
   "notebookRuntimeVersion": "8.0"
  },
  "kernelspec": {
   "display_name": "Python 3 (ipykernel)",
   "language": "python",
   "name": "python3"
  },
  "language_info": {
   "codemirror_mode": {
    "name": "ipython",
    "version": 3
   },
   "file_extension": ".py",
   "mimetype": "text/x-python",
   "name": "python",
   "nbconvert_exporter": "python",
   "pygments_lexer": "ipython3",
   "version": "3.9.16"
  }
 },
 "nbformat": 4,
 "nbformat_minor": 2
}
